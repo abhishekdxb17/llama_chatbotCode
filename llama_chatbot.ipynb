{
  "nbformat": 4,
  "nbformat_minor": 0,
  "metadata": {
    "colab": {
      "provenance": [],
      "authorship_tag": "ABX9TyP0cuGhTyKopnIL8fuPf8Zp",
      "include_colab_link": true
    },
    "kernelspec": {
      "name": "python3",
      "display_name": "Python 3"
    },
    "language_info": {
      "name": "python"
    }
  },
  "cells": [
    {
      "cell_type": "markdown",
      "metadata": {
        "id": "view-in-github",
        "colab_type": "text"
      },
      "source": [
        "<a href=\"https://colab.research.google.com/github/abhishekdxb17/llama_chatbotCode/blob/main/llama_chatbot.ipynb\" target=\"_parent\"><img src=\"https://colab.research.google.com/assets/colab-badge.svg\" alt=\"Open In Colab\"/></a>"
      ]
    },
    {
      "cell_type": "code",
      "execution_count": 30,
      "metadata": {
        "id": "lvoiPbT6Jixe"
      },
      "outputs": [],
      "source": [
        "!pip install llama_index\n",
        "!pip install langchain"
      ]
    },
    {
      "cell_type": "code",
      "source": [
        "import os\n",
        "\n",
        "os.environ['OPENAI_API_KEY'] = \"your api key\""
      ],
      "metadata": {
        "id": "eHnpWc2xJkw3"
      },
      "execution_count": 40,
      "outputs": []
    },
    {
      "cell_type": "code",
      "source": [
        "from llama_index import SimpleDirectoryReader\n",
        "\n",
        "documents = SimpleDirectoryReader('/content/data').load_data()"
      ],
      "metadata": {
        "id": "t-cPDasqJz0O"
      },
      "execution_count": 41,
      "outputs": []
    },
    {
      "cell_type": "code",
      "source": [
        "# Create an index of your documents\n",
        "\n",
        "from llama_index import GPTVectorStoreIndex\n",
        "\n",
        "index = GPTVectorStoreIndex.from_documents(documents)\n"
      ],
      "metadata": {
        "id": "2-Xl-8dEJ2GD"
      },
      "execution_count": 42,
      "outputs": []
    },
    {
      "cell_type": "code",
      "source": [
        "from llama_index import download_loader\n",
        "\n",
        "WikipediaReader = download_loader(\"WikipediaReader\")\n",
        "\n",
        "loader = WikipediaReader()\n",
        "wikidocs = loader.load_data(pages=['Dubai'])\n",
        "\n",
        "# https://en.wikipedia.org/wiki/Dubai"
      ],
      "metadata": {
        "id": "KMsEmw95KD1_"
      },
      "execution_count": 34,
      "outputs": []
    },
    {
      "cell_type": "code",
      "source": [
        "wiki_index = GPTVectorStoreIndex.from_documents(wikidocs)\n",
        "\n",
        "query_engine = wiki_index.as_query_engine()\n",
        "response = query_engine.query(\"tell me about supercars in dubai\")\n",
        "print(response)"
      ],
      "metadata": {
        "colab": {
          "base_uri": "https://localhost:8080/"
        },
        "id": "Na453DBDR4vf",
        "outputId": "4aaaf166-17a8-4719-9e69-d2092cdb6b50"
      },
      "execution_count": 45,
      "outputs": [
        {
          "output_type": "stream",
          "name": "stdout",
          "text": [
            "\n",
            "Supercars in Dubai are a popular sight on the roads of the city. The city is home to some of the world's most luxurious and expensive cars, including Lamborghinis, Ferraris, and Bugattis. Many of these cars are owned by wealthy locals and tourists, and can be seen cruising around the city's streets. Dubai is also home to some of the world's most exclusive car clubs, where members can rent out supercars for a day or a weekend. The city also hosts a number of car shows and events, such as the Dubai Motor Show, where visitors can get up close and personal with some of the world's most impressive supercars.\n"
          ]
        }
      ]
    },
    {
      "cell_type": "code",
      "source": [],
      "metadata": {
        "id": "c3Yt18PpSRmT"
      },
      "execution_count": null,
      "outputs": []
    }
  ]
}